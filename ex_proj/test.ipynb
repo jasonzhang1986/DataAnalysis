{
 "cells": [
  {
   "cell_type": "code",
   "execution_count": 25,
   "metadata": {},
   "outputs": [
    {
     "name": "stdout",
     "output_type": "stream",
     "text": [
      "0    I’m David16专柜新品爱大卫韩版春季男装长袖休闲外套DQJP11C1\n",
      "1                       秋冬新款男装 冲锋衣羽绒服 中长厚外套\n",
      "2           春季长袖T恤男士宽松加大码上衣青年男装t恤韩版假两件衬衫领体恤\n",
      "3     马克华菲长袖衬衫 2015秋装新款男士修身韩版拼接衬衣7153307221\n",
      "4                    法兰绒休闲格子衬衫男长袖免烫磨毛男士格子衬衣\n",
      "Name: goods_name, dtype: object\n"
     ]
    }
   ],
   "source": [
    "import requests\n",
    "import json\n",
    "import pandas as pd\n",
    "import matplotlib.pyplot as plt\n",
    "\n",
    "\n",
    "url = 'http://www.aikustore.com:8080/mjsys/wemall/WemallGoodsAction!list'\n",
    "r = requests.get(url)\n",
    "parsed = r.json()\n",
    "# print(parsed)\n",
    "text = json.dumps(parsed, indent=4, sort_keys=False, ensure_ascii=False)\n",
    "# print(text)\n",
    "\n",
    "\n",
    "df = pd.DataFrame.from_dict(parsed['rows'])\n",
    "print(df['goods_name'].head())\n"
   ]
  },
  {
   "cell_type": "code",
   "execution_count": 56,
   "metadata": {},
   "outputs": [
    {
     "name": "stdout",
     "output_type": "stream",
     "text": [
      "       goods_name  goods_salenum\n",
      "189   【包邮】时尚牛仔直筒裤           1636\n",
      "188   【包邮】破洞九分小脚裤           1599\n",
      "187   【包邮】九分破洞牛仔裤           1595\n",
      "185  【包邮】高腰开叉喇叭长裤           1577\n",
      "191   【包邮】破洞渔网牛仔裤           1562\n",
      "<class 'pandas.core.series.Series'>\n",
      "<class 'pandas.core.series.Series'>\n"
     ]
    },
    {
     "data": {
      "image/png": "[encoded data removed]",
      "text/plain": [
       "<matplotlib.figure.Figure at 0x115b9ae80>"
      ]
     },
     "metadata": {},
     "output_type": "display_data"
    }
   ],
   "source": [
    "plt.rcParams['font.sans-serif'] = ['SimHei']  # 用来正常显示中文标签\n",
    "fig_1 = plt.figure(figsize=(12, 6))\n",
    "plt.title('服装销量')\n",
    "data = df[['goods_name', 'goods_salenum']]\n",
    "data = data.sort_values(by = ['goods_salenum'], ascending=False)\n",
    "print(data.head())\n",
    "x = data['goods_name'][:10]\n",
    "# print(index.head())\n",
    "# print(type(data))\n",
    "y = data['goods_salenum'][:10]\n",
    "print(type(x))\n",
    "print(type(y))\n",
    "\n",
    "plt.bar(range(10), y, tick_label=x)\n",
    "# plt.bar(range(10), data['goods_salesnum'][:10], tick_label=index, color='gray')\n",
    "plt.show()"
   ]
  }
 ],
 "metadata": {
  "kernelspec": {
   "display_name": "Python 3",
   "language": "python",
   "name": "python3"
  },
  "language_info": {
   "codemirror_mode": {
    "name": "ipython",
    "version": 3
   },
   "file_extension": ".py",
   "mimetype": "text/x-python",
   "name": "python",
   "nbconvert_exporter": "python",
   "pygments_lexer": "ipython3",
   "version": "3.6.3"
  }
 },
 "nbformat": 4,
 "nbformat_minor": 2
}
